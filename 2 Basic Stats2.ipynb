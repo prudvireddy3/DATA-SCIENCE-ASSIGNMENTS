{
 "cells": [
  {
   "cell_type": "code",
   "execution_count": 1,
   "id": "3cd1ccfd-1486-43d2-9778-4a7fddba049a",
   "metadata": {},
   "outputs": [],
   "source": [
    "## Estimation and confidence interval\n",
    "## a. Build 99% Confidence Interval Using Sample Standard Deviation\n",
    "## Assuming the sample is representative of the population, construct a 99% confidence interval for the mean number of characters printed before the print-head fails using the sample standard deviation. Explain the steps you take and the rationale behind using the t-distribution for this task.\n"
   ]
  },
  {
   "cell_type": "code",
   "execution_count": 2,
   "id": "29e1575e-a302-40ac-8b29-5e0249996dd4",
   "metadata": {},
   "outputs": [],
   "source": [
    "data=(1.13, 1.55, 1.43, 0.92, 1.25, 1.36, 1.32, 0.85, 1.07, 1.48, 1.20, 1.33, 1.18, 1.22, 1.29)"
   ]
  },
  {
   "cell_type": "code",
   "execution_count": 3,
   "id": "124c967f-b4ba-4278-9e8c-bf81c5c05089",
   "metadata": {},
   "outputs": [],
   "source": [
    "import numpy as np\n",
    "import math\n",
    "import scipy.stats as stats"
   ]
  },
  {
   "cell_type": "code",
   "execution_count": 4,
   "id": "c58f99cf-a95f-4037-bc62-062d6c7d82df",
   "metadata": {},
   "outputs": [
    {
     "data": {
      "text/plain": [
       "1.2386666666666666"
      ]
     },
     "execution_count": 4,
     "metadata": {},
     "output_type": "execute_result"
    }
   ],
   "source": [
    "## Calculate the mean\n",
    "data_mean=np.mean(data)\n",
    "data_mean"
   ]
  },
  {
   "cell_type": "code",
   "execution_count": 5,
   "id": "49cb6437-3e36-4a2e-b5d0-49ac00649c52",
   "metadata": {},
   "outputs": [
    {
     "data": {
      "text/plain": [
       "0.18661427836285438"
      ]
     },
     "execution_count": 5,
     "metadata": {},
     "output_type": "execute_result"
    }
   ],
   "source": [
    "## Calculate the standard Deviation\n",
    "data_std_d=np.std(data)    \n",
    "data_std_d"
   ]
  },
  {
   "cell_type": "code",
   "execution_count": 6,
   "id": "5119fad6-ac40-4ae4-90bd-090e0e0c587b",
   "metadata": {},
   "outputs": [
    {
     "data": {
      "text/plain": [
       "14"
      ]
     },
     "execution_count": 6,
     "metadata": {},
     "output_type": "execute_result"
    }
   ],
   "source": [
    "## Degree of freedom (n-1)\n",
    "dof=len(data)-1\n",
    "dof"
   ]
  },
  {
   "cell_type": "code",
   "execution_count": 7,
   "id": "bbcc8636-a787-4829-a1d3-3c5e174d58cb",
   "metadata": {},
   "outputs": [
    {
     "data": {
      "text/plain": [
       "0.010000000000000009"
      ]
     },
     "execution_count": 7,
     "metadata": {},
     "output_type": "execute_result"
    }
   ],
   "source": [
    "## Confidence Interval and alpha\n",
    "con_int=0.99\n",
    "alpha=1-0.99\n",
    "alpha"
   ]
  },
  {
   "cell_type": "code",
   "execution_count": 8,
   "id": "d623c30c-675d-492a-b106-3d1cc129e441",
   "metadata": {},
   "outputs": [
    {
     "data": {
      "text/plain": [
       "2.97684273411266"
      ]
     },
     "execution_count": 8,
     "metadata": {},
     "output_type": "execute_result"
    }
   ],
   "source": [
    "## Calculating critical values\n",
    "data_critical=stats.t.ppf(1-(alpha)/2,dof)\n",
    "data_critical"
   ]
  },
  {
   "cell_type": "code",
   "execution_count": 9,
   "id": "798e4324-559c-4e9a-a2d5-50aac4013c43",
   "metadata": {},
   "outputs": [
    {
     "data": {
      "text/plain": [
       "0.14343499802810397"
      ]
     },
     "execution_count": 9,
     "metadata": {},
     "output_type": "execute_result"
    }
   ],
   "source": [
    "## Calculating Margin of errror\n",
    "Margin_of_err=data_critical*(data_std_d/(math.sqrt(15)))\n",
    "Margin_of_err"
   ]
  },
  {
   "cell_type": "code",
   "execution_count": 10,
   "id": "0e74f3c5-c6cc-46f6-a226-73b801461d8e",
   "metadata": {},
   "outputs": [
    {
     "data": {
      "text/plain": [
       "1.3821016646947706"
      ]
     },
     "execution_count": 10,
     "metadata": {},
     "output_type": "execute_result"
    }
   ],
   "source": [
    "## Upper limit\n",
    "upper_limit=data_mean+Margin_of_err\n",
    "upper_limit"
   ]
  },
  {
   "cell_type": "code",
   "execution_count": 11,
   "id": "d7ae9760-5033-4bd0-81e1-08ba7b65815e",
   "metadata": {},
   "outputs": [
    {
     "data": {
      "text/plain": [
       "1.0952316686385626"
      ]
     },
     "execution_count": 11,
     "metadata": {},
     "output_type": "execute_result"
    }
   ],
   "source": [
    "## Lower limit\n",
    "lower_limit=data_mean-Margin_of_err\n",
    "lower_limit"
   ]
  },
  {
   "cell_type": "code",
   "execution_count": 12,
   "id": "f15dcd0b-56c5-4ee6-833f-5c5abf7fb4eb",
   "metadata": {},
   "outputs": [],
   "source": [
    "### b. Build 99% Confidence Interval Using Known Population Standard Deviation\n",
    "## If it were known that the population standard deviation is 0.2 million characters, construct a 99% confidence interval for the mean number of characters printed before failure.\n"
   ]
  },
  {
   "cell_type": "code",
   "execution_count": 13,
   "id": "27069105-415c-4bda-a37a-15a9d27aa5a4",
   "metadata": {},
   "outputs": [],
   "source": [
    "## Known standard deviation\n",
    "std=0.2"
   ]
  },
  {
   "cell_type": "code",
   "execution_count": 14,
   "id": "97902b08-be85-4e3a-b042-5e34e445e609",
   "metadata": {},
   "outputs": [
    {
     "data": {
      "text/plain": [
       "2.97684273411266"
      ]
     },
     "execution_count": 14,
     "metadata": {},
     "output_type": "execute_result"
    }
   ],
   "source": [
    "## Calculating critical values\n",
    "data_critical1=stats.t.ppf(1-(alpha)/2,dof)\n",
    "data_critical1"
   ]
  },
  {
   "cell_type": "code",
   "execution_count": 15,
   "id": "07124ff5-c791-432d-8d00-73a1726fee9f",
   "metadata": {},
   "outputs": [
    {
     "data": {
      "text/plain": [
       "0.15372349777995847"
      ]
     },
     "execution_count": 15,
     "metadata": {},
     "output_type": "execute_result"
    }
   ],
   "source": [
    "## Calculating Margin of errror\n",
    "Margin_of_err1=data_critical1*(std/(math.sqrt(15)))\n",
    "Margin_of_err1"
   ]
  },
  {
   "cell_type": "code",
   "execution_count": 16,
   "id": "bb9b5657-2baa-4b6d-9bca-a22ded1eb67d",
   "metadata": {},
   "outputs": [
    {
     "data": {
      "text/plain": [
       "1.392390164446625"
      ]
     },
     "execution_count": 16,
     "metadata": {},
     "output_type": "execute_result"
    }
   ],
   "source": [
    "## Upper limit\n",
    "upper_limit=data_mean+Margin_of_err1\n",
    "upper_limit"
   ]
  },
  {
   "cell_type": "code",
   "execution_count": 17,
   "id": "06722cad-80d8-4079-8639-7bf58b23b308",
   "metadata": {},
   "outputs": [
    {
     "data": {
      "text/plain": [
       "1.0849431688867082"
      ]
     },
     "execution_count": 17,
     "metadata": {},
     "output_type": "execute_result"
    }
   ],
   "source": [
    "## Lower limit\n",
    "lower_limit=data_mean-Margin_of_err1\n",
    "lower_limit"
   ]
  },
  {
   "cell_type": "code",
   "execution_count": null,
   "id": "3c24ac8b-dcf1-4d51-9862-6db8d817dd4c",
   "metadata": {},
   "outputs": [],
   "source": []
  },
  {
   "cell_type": "code",
   "execution_count": null,
   "id": "8a6b73be-25a6-47da-8833-c8b2a229159b",
   "metadata": {},
   "outputs": [],
   "source": []
  },
  {
   "cell_type": "code",
   "execution_count": null,
   "id": "c6dffc87-dd51-4567-a900-4210f51b0844",
   "metadata": {},
   "outputs": [],
   "source": []
  }
 ],
 "metadata": {
  "kernelspec": {
   "display_name": "Python 3 (ipykernel)",
   "language": "python",
   "name": "python3"
  },
  "language_info": {
   "codemirror_mode": {
    "name": "ipython",
    "version": 3
   },
   "file_extension": ".py",
   "mimetype": "text/x-python",
   "name": "python",
   "nbconvert_exporter": "python",
   "pygments_lexer": "ipython3",
   "version": "3.11.7"
  }
 },
 "nbformat": 4,
 "nbformat_minor": 5
}
