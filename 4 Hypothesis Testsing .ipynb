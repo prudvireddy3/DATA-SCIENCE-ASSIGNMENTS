{
 "cells": [
  {
   "cell_type": "markdown",
   "id": "b73ecd12-db6b-4b9b-9d70-36e883fd4660",
   "metadata": {},
   "source": [
    "## Assignment Tasks:"
   ]
  },
  {
   "cell_type": "raw",
   "id": "e7bcbb23-6a17-44f8-abff-23b1c3089010",
   "metadata": {},
   "source": [
    "### Background:\n",
    "Bombay hospitality Ltd. operates a franchise model for producing exotic Norwegian dinners throughout New England. The operating cost for a franchise in a week (W) is given by the equation W = $1,000 + $5X, where X represents the number of units produced in a week. Recent feedback from restaurant owners suggests that this cost model may no longer be accurate, as their observed weekly operating costs are higher.\n",
    "Objective:\n",
    "To investigate the restaurant owners' claim about the increase in weekly operating costs using hypothesis testing.\n",
    "Data Provided:\n",
    "•\tThe theoretical weekly operating cost model: W = $1,000 + $5X\n",
    "•\tSample of 25 restaurants with a mean weekly cost of Rs. 3,050\n",
    "•\tNumber of units produced in a week (X) follows a normal distribution with a mean (μ) of 600 units and a standard deviation (σ) of 25 units\n"
   ]
  },
  {
   "cell_type": "raw",
   "id": "652929bd-ed49-4314-94b6-bbed7e4c03d0",
   "metadata": {},
   "source": [
    "## 1.State the Hypothesis statement"
   ]
  },
  {
   "cell_type": "raw",
   "id": "f19f1949-7116-4c34-9aa3-65ad01daed33",
   "metadata": {},
   "source": [
    "## Ho= The mean are equal according to cost model \n",
    "Ha= The mean are not equal according to  cost model"
   ]
  },
  {
   "cell_type": "raw",
   "id": "56937f95-7246-4e72-b2f8-3fc4ffebf20b",
   "metadata": {},
   "source": [
    "## 2. Calculate the Test Statistic:\n",
    "Use the following formula to calculate the test statistic (t):\n",
    "where:\n",
    "•\tˉxˉ = sample mean weekly cost (Rs. 3,050)\n",
    "•\tμ = theoretical mean weekly cost according to the cost model (W = $1,000 + $5X for X = 600 units)\n",
    "•\tσ = 5*25 units\n",
    "•\tn = sample size (25 restaurants)\n"
   ]
  },
  {
   "cell_type": "code",
   "execution_count": 1,
   "id": "cf6561cd-9f72-4fe4-b93c-8bc29d30d915",
   "metadata": {},
   "outputs": [],
   "source": [
    "## Given \n",
    "xbar=3050\n",
    "p_mean=(1000+5*600)\n",
    "p_st_dev=5*25\n",
    "n=25\n"
   ]
  },
  {
   "cell_type": "code",
   "execution_count": 2,
   "id": "2d7b31d7-7b0c-4fe9-b729-ed10b1b0509b",
   "metadata": {},
   "outputs": [],
   "source": [
    "import math\n",
    "import scipy.stats as stats"
   ]
  },
  {
   "cell_type": "code",
   "execution_count": 3,
   "id": "be19d264-8b49-4abd-9bce-12a9d7638db1",
   "metadata": {},
   "outputs": [
    {
     "data": {
      "text/plain": [
       "-38.0"
      ]
     },
     "execution_count": 3,
     "metadata": {},
     "output_type": "execute_result"
    }
   ],
   "source": [
    "z_score=(xbar-p_mean)/(p_st_dev/math.sqrt(n))\n",
    "z_score"
   ]
  },
  {
   "cell_type": "raw",
   "id": "0d70dacc-7ef5-4cc5-872a-1145a3d948fa",
   "metadata": {},
   "source": [
    "## 3. Determine the Critical Value:\n",
    "Using the alpha level of 5% (α = 0.05), determine the critical value from the standard normal (Z) distribution table.\n"
   ]
  },
  {
   "cell_type": "code",
   "execution_count": 4,
   "id": "1d0fe782-0076-4977-bd79-96c3c6f92310",
   "metadata": {},
   "outputs": [
    {
     "data": {
      "text/plain": [
       "1.959963984540054"
      ]
     },
     "execution_count": 4,
     "metadata": {},
     "output_type": "execute_result"
    }
   ],
   "source": [
    "z_critical=stats.norm.ppf(1-0.05/2)\n",
    "z_critical"
   ]
  },
  {
   "cell_type": "raw",
   "id": "b4529364-9300-42ee-95a1-9e0357024671",
   "metadata": {},
   "source": [
    "## 4. Make a Decision:\n",
    "Compare the test statistic with the critical value to decide whether to reject the null hypothesis.\n"
   ]
  },
  {
   "cell_type": "raw",
   "id": "5bf51fa2-3966-4a6b-b99c-e6a04bc0da04",
   "metadata": {},
   "source": [
    "## After the process we came to know that zscore<z_citical we can say that fail to reject null hypothesis "
   ]
  },
  {
   "cell_type": "raw",
   "id": "f0112937-8c98-4e12-be27-67309275830e",
   "metadata": {},
   "source": [
    "## 5. Conclusion:\n",
    "Based on the decision in step 4, conclude whether there is strong evidence to support the restaurant owners' claim that the weekly operating costs are higher than the model suggests.\n"
   ]
  },
  {
   "cell_type": "raw",
   "id": "1a48fe70-daeb-415d-973a-3dd3f2e0b517",
   "metadata": {},
   "source": [
    "## Based on the decision we can say that there is strong evidence to support the restaurant owners' claim that the weekly operating costs are higher than the model suggests."
   ]
  }
 ],
 "metadata": {
  "kernelspec": {
   "display_name": "Python 3 (ipykernel)",
   "language": "python",
   "name": "python3"
  },
  "language_info": {
   "codemirror_mode": {
    "name": "ipython",
    "version": 3
   },
   "file_extension": ".py",
   "mimetype": "text/x-python",
   "name": "python",
   "nbconvert_exporter": "python",
   "pygments_lexer": "ipython3",
   "version": "3.11.7"
  }
 },
 "nbformat": 4,
 "nbformat_minor": 5
}
