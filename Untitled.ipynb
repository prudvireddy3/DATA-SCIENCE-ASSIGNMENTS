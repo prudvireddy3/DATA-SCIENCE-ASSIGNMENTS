{
 "cells": [
  {
   "cell_type": "markdown",
   "id": "5cc152da-142a-49e5-ae08-c658848ad2f7",
   "metadata": {
    "scrolled": true
   },
   "source": [
    "import joblib\n",
    "import streamlit as st\n",
    "import numpy as np\n",
    "import pandas as pd\n",
    "import matplotlib.pyplot as plt\n",
    "import seaborn as sns\n",
    "import warnings\n",
    "warnings.filterwarnings('ignore')"
   ]
  },
  {
   "cell_type": "markdown",
   "id": "44b940ca-41aa-4537-90bc-e3599d6cc088",
   "metadata": {},
   "source": [
    "model = joblib.load('model.pkl')\n",
    "st.title('Logistic regression')\n",
    "st.write('Upload')"
   ]
  },
  {
   "cell_type": "markdown",
   "id": "ea41dbf7-0b94-4fa7-9e77-7a40794dfd38",
   "metadata": {},
   "source": [
    "upload_file = st.file_uploader(\"Upload a CSV file\", type=[\"csv\"])\n",
    "\n",
    "if upload_file:\n",
    "    input_data = pd.read_csv(upload_file)\n",
    "    st.write(\"Uploaded Data:\")\n",
    "    st.write(input_data)\n",
    "else:\n",
    "    st.write(\"Enter values for prediction:\")\n",
    "    feature1 = st.number_input(\"Feature 1\")\n",
    "    feature2 = st.number_input(\"Feature 2\")\n",
    "    # Add more inputs as needed\n",
    "    input_data = pd.DataFrame([[feature1, feature2]], columns=[\"Feature1\", \"Feature2\"])\n"
   ]
  },
  {
   "cell_type": "code",
   "execution_count": 11,
   "id": "86064e79-4587-4c44-a36b-89983946cbd4",
   "metadata": {},
   "outputs": [
    {
     "name": "stdout",
     "output_type": "stream",
     "text": [
      "Accuracy: 0.7988826815642458\n"
     ]
    },
    {
     "data": {
      "text/plain": [
       "['titanic_logistic_model.pkl']"
      ]
     },
     "execution_count": 11,
     "metadata": {},
     "output_type": "execute_result"
    }
   ],
   "source": [
    "import pandas as pd\n",
    "from sklearn.model_selection import train_test_split\n",
    "from sklearn.linear_model import LogisticRegression\n",
    "from sklearn.metrics import accuracy_score\n",
    "import joblib\n",
    "\n",
    "# Load the Titanic dataset\n",
    "data = pd.read_csv('titanic_train.csv')\n",
    "\n",
    "# Preprocessing (example: handle missing values and encode categorical features)\n",
    "data['Age'].fillna(data['Age'].mean(), inplace=True)\n",
    "data['Embarked'].fillna(data['Embarked'].mode()[0], inplace=True)\n",
    "data = pd.get_dummies(data, columns=['Sex', 'Embarked'], drop_first=True)\n",
    "\n",
    "# Select features and target\n",
    "features = ['Pclass', 'Age', 'SibSp', 'Parch', 'Fare', 'Sex_male', 'Embarked_Q', 'Embarked_S']\n",
    "X = data[features]\n",
    "y = data['Survived']\n",
    "\n",
    "# Split into training and testing sets\n",
    "X_train, X_test, y_train, y_test = train_test_split(X, y, test_size=0.2, random_state=42)\n",
    "\n",
    "# Train the logistic regression model\n",
    "model = LogisticRegression()\n",
    "model.fit(X_train, y_train)\n",
    "\n",
    "# Test the model\n",
    "y_pred = model.predict(X_test)\n",
    "print(\"Accuracy:\", accuracy_score(y_test, y_pred))\n",
    "\n",
    "# Save the model\n",
    "joblib.dump(model, 'titanic_logistic_model.pkl')\n"
   ]
  },
  {
   "cell_type": "code",
   "execution_count": null,
   "id": "5e0d92df-d464-4e4d-aba7-e2cad12063e4",
   "metadata": {},
   "outputs": [],
   "source": []
  }
 ],
 "metadata": {
  "kernelspec": {
   "display_name": "Python 3 (ipykernel)",
   "language": "python",
   "name": "python3"
  },
  "language_info": {
   "codemirror_mode": {
    "name": "ipython",
    "version": 3
   },
   "file_extension": ".py",
   "mimetype": "text/x-python",
   "name": "python",
   "nbconvert_exporter": "python",
   "pygments_lexer": "ipython3",
   "version": "3.11.7"
  }
 },
 "nbformat": 4,
 "nbformat_minor": 5
}
