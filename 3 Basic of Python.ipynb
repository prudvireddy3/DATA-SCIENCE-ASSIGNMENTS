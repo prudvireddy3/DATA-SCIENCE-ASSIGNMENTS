{
 "cells": [
  {
   "cell_type": "markdown",
   "id": "e0781b50-5aab-4185-afb7-952ec3891ae5",
   "metadata": {},
   "source": [
    "## Exercise 1: Prime Numbers"
   ]
  },
  {
   "cell_type": "raw",
   "id": "3e49fc13-1c1b-4b03-a384-1e619104f059",
   "metadata": {},
   "source": [
    "#### Write a Python program that checks whether a given number is prime or not. A prime number is a natural number greater than 1 that has no positive divisors other than 1 and itself."
   ]
  },
  {
   "cell_type": "code",
   "execution_count": 1,
   "id": "16e3824c-f45d-47e6-97a3-48a0f63ab090",
   "metadata": {},
   "outputs": [],
   "source": [
    "def prime(A):  \n",
    "    if(A<=1):\n",
    "        return 'not a prime'\n",
    "    if(A==2):\n",
    "        return 'prime'\n",
    "    if(A%2==0 or A%2==1):\n",
    "        for i in range(2,A):\n",
    "            if(A%i==0):\n",
    "                return 'not a prime'\n",
    "        return 'prime'\n",
    "    return 'not a prime'"
   ]
  },
  {
   "cell_type": "code",
   "execution_count": 2,
   "id": "d2f59516-d77a-4c73-afc5-50dd73c39c1e",
   "metadata": {},
   "outputs": [
    {
     "data": {
      "text/plain": [
       "'prime'"
      ]
     },
     "execution_count": 2,
     "metadata": {},
     "output_type": "execute_result"
    }
   ],
   "source": [
    "prime(5)"
   ]
  },
  {
   "cell_type": "markdown",
   "id": "3e66751f-f22d-4153-8b82-5f10396b2e2c",
   "metadata": {},
   "source": [
    "## Exercise 2: Product of Random Numbers"
   ]
  },
  {
   "cell_type": "raw",
   "id": "7d2c458b-4f13-477e-9ceb-b3f1e61be06a",
   "metadata": {},
   "source": [
    "#### Develop a Python program that generates two random numbers and asks the user to enter the product of these numbers. The program should then check if the user's answer is correct and display an appropriate message."
   ]
  },
  {
   "cell_type": "code",
   "execution_count": null,
   "id": "0a000fe0-42f4-4667-a74d-b920dabc98f5",
   "metadata": {},
   "outputs": [],
   "source": [
    "import random\n",
    "def random_number():\n",
    "    number1 = random.randint(1,5)\n",
    "    number2 = random.randint(15,25)\n",
    "    return number1,number2\n",
    "def numbers():\n",
    "    number1, number2 = random_number()\n",
    "    input_answer = int(input(f'What is the product of {number1} and {number2}'))  \n",
    "    product_of_the_number = number1 * number2\n",
    "    if input_answer == product_of_the_number:\n",
    "        print(' answer is correct')\n",
    "    else:\n",
    "        print(f'your answer is wrong,correct answer is = {product_of_the_number}')\n",
    "numbers()        "
   ]
  },
  {
   "cell_type": "markdown",
   "id": "8ed42ff6-54ef-4dda-ba3a-33d608b639e4",
   "metadata": {},
   "source": [
    "## Exercise 3: Squares of Even/Odd Numbers"
   ]
  },
  {
   "cell_type": "raw",
   "id": "f940e989-bd87-4acd-aa03-1b658c03bcb3",
   "metadata": {},
   "source": [
    "### Create a Python script that prints the squares of all even or odd numbers within the range of 100 to 200. Choose either even or odd numbers and document your choice in the code."
   ]
  },
  {
   "cell_type": "code",
   "execution_count": null,
   "id": "b2f44712-4c9e-469b-a977-a00eefd85ace",
   "metadata": {},
   "outputs": [],
   "source": [
    "def square_of_even():\n",
    "    for i in range(100,200):\n",
    "        if(i%2!=0):  ## Check for odd values \n",
    "            print(i,'square is',i**2)\n",
    "square_of_even()        "
   ]
  },
  {
   "cell_type": "markdown",
   "id": "c1170253-b227-484a-85e4-d54806051c1e",
   "metadata": {},
   "source": [
    "## Exercise 4: Word counter"
   ]
  },
  {
   "cell_type": "raw",
   "id": "458ad51c-96df-44d3-8874-218e3a033ca0",
   "metadata": {},
   "source": [
    "#### write a program to count the number of words in a given text.\n",
    "input_text = \"This is a sample text. This text will be used to demonstrate the word counter.\"\n",
    "Expected output:\n",
    "'This': 2 \n",
    "'is': 1\n",
    "'a': 1\n",
    "'sample': 1\n",
    "'text.': 1"
   ]
  },
  {
   "cell_type": "code",
   "execution_count": null,
   "id": "b1f3940f-716b-424c-8c19-e923b40801e4",
   "metadata": {},
   "outputs": [],
   "source": [
    "def text(input_text):\n",
    "    word=input_text.split()\n",
    "    count_of_word={}\n",
    "    for i in word:\n",
    "        count_of_word[i]=count_of_word.get(i,0)+1\n",
    "    for i,j in count_of_word.items():\n",
    "        print(f'{i}={j}')\n",
    "input_text = \"This is a sample text. This text will be used to demonstrate the word counter.\"\n",
    "text(input_text)"
   ]
  },
  {
   "cell_type": "markdown",
   "id": "9c563d16-1c2e-461f-b438-db82eef4241f",
   "metadata": {},
   "source": [
    "## Exercise 5: Check for Palindrome"
   ]
  },
  {
   "cell_type": "raw",
   "id": "ff6ca28b-9890-4afc-84af-f69eefe3de2e",
   "metadata": {},
   "source": [
    "#### Write a Python function called is_palindrome that takes a string as input and returns True if the string is a palindrome, and False otherwise. A palindrome is a word, phrase, number, or other sequence of characters that reads the same forward and backward, ignoring spaces, punctuation, and capitalization.\n",
    "Example:\n",
    "Input: \"racecar\"\n",
    "Expected Output: True\n"
   ]
  },
  {
   "cell_type": "code",
   "execution_count": null,
   "id": "073881fd-248b-4af2-bfe6-cf18d8d54500",
   "metadata": {},
   "outputs": [],
   "source": [
    "def is_palindrome(s):\n",
    "    normal_string=''.join(i.lower() for i in s if i.isalnum()) ## remove alphanumeric characters\n",
    "    return normal_string==normal_string[::-1]\n",
    "is_palindrome(s='racecar')"
   ]
  },
  {
   "cell_type": "code",
   "execution_count": null,
   "id": "8edb9fcd-60d2-42fb-865e-c6d50a338508",
   "metadata": {},
   "outputs": [],
   "source": []
  }
 ],
 "metadata": {
  "kernelspec": {
   "display_name": "Python 3 (ipykernel)",
   "language": "python",
   "name": "python3"
  },
  "language_info": {
   "codemirror_mode": {
    "name": "ipython",
    "version": 3
   },
   "file_extension": ".py",
   "mimetype": "text/x-python",
   "name": "python",
   "nbconvert_exporter": "python",
   "pygments_lexer": "ipython3",
   "version": "3.11.7"
  }
 },
 "nbformat": 4,
 "nbformat_minor": 5
}
